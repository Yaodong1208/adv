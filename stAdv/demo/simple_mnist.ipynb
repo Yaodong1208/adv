{
 "cells": [
  {
   "cell_type": "markdown",
   "metadata": {},
   "source": [
    "# End-to-end demo of the ``stadv`` package\n",
    "We use a small CNN pre-trained on MNIST and try and fool the network using *Spatially Transformed Adversarial Examples* (stAdv)."
   ]
  },
  {
   "cell_type": "markdown",
   "metadata": {},
   "source": [
    "### Import the relevant libraries"
   ]
  },
  {
   "cell_type": "code",
   "execution_count": 1,
   "metadata": {},
   "outputs": [],
   "source": [
    "%matplotlib inline\n",
    "\n",
    "from __future__ import absolute_import\n",
    "from __future__ import division\n",
    "from __future__ import print_function\n",
    "\n",
    "import sys\n",
    "import os\n",
    "import numpy as np\n",
    "import tensorflow as tf\n",
    "import stadv\n",
    "\n",
    "# dependencies specific to this demo notebook\n",
    "import matplotlib.pyplot as plt\n",
    "import idx2numpy"
   ]
  },
  {
   "cell_type": "markdown",
   "metadata": {},
   "source": [
    "### Load MNIST data\n",
    "The test data for the MNIST dataset should be downloaded from http://yann.lecun.com/exdb/mnist/,\n",
    "decompressed, and put in a directory ``mnist_data_dir``.\n",
    "\n",
    "This can be done in command line with:\n",
    "```\n",
    "wget http://yann.lecun.com/exdb/mnist/t10k-images-idx3-ubyte.gz && gunzip -f t10k-images-idx3-ubyte.gz\n",
    "wget http://yann.lecun.com/exdb/mnist/t10k-labels-idx1-ubyte.gz && gunzip -f t10k-labels-idx1-ubyte.gz\n",
    "```"
   ]
  },
  {
   "cell_type": "code",
   "execution_count": 2,
   "metadata": {
    "scrolled": true
   },
   "outputs": [
    {
     "name": "stdout",
     "output_type": "stream",
     "text": [
      "Shape of images: (10000, 28, 28, 1)\n",
      "Range of values: from 0 to 255\n",
      "Shape of labels: (10000,)\n",
      "Range of values: from 0 to 9\n"
     ]
    }
   ],
   "source": [
    "mnist_data_dir = '.'\n",
    "mnist_images = idx2numpy.convert_from_file(os.path.join(mnist_data_dir, 't10k-images-idx3-ubyte'))\n",
    "mnist_labels = idx2numpy.convert_from_file(os.path.join(mnist_data_dir, 't10k-labels-idx1-ubyte'))\n",
    "mnist_images = np.expand_dims(mnist_images, -1)\n",
    "\n",
    "print(\"Shape of images:\", mnist_images.shape)\n",
    "print(\"Range of values: from {} to {}\".format(np.min(mnist_images), np.max(mnist_images)))\n",
    "print(\"Shape of labels:\", mnist_labels.shape)\n",
    "print(\"Range of values: from {} to {}\".format(np.min(mnist_labels), np.max(mnist_labels)))"
   ]
  },
  {
   "cell_type": "markdown",
   "metadata": {},
   "source": [
    "### Definition of the graph\n",
    "The CNN we consider is using the `layers` module of TensorFlow. It was heavily inspired by this tutorial: https://www.tensorflow.org/tutorials/layers"
   ]
  },
  {
   "cell_type": "code",
   "execution_count": 3,
   "metadata": {},
   "outputs": [],
   "source": [
    "# definition of the inputs to the network\n",
    "images = tf.placeholder(tf.float32, shape=[None, 28, 28, 1], name='images')\n",
    "flows = tf.placeholder(tf.float32, [None, 2, 28, 28], name='flows')\n",
    "targets = tf.placeholder(tf.int64, shape=[None], name='targets')\n",
    "tau = tf.placeholder_with_default(\n",
    "    tf.constant(0., dtype=tf.float32),\n",
    "    shape=[], name='tau'\n",
    ")\n",
    "\n",
    "# flow-based spatial transformation layer\n",
    "perturbed_images = stadv.layers.flow_st(images, flows, 'NHWC')\n",
    "\n",
    "# definition of the CNN in itself\n",
    "conv1 = tf.layers.conv2d(\n",
    "    inputs=perturbed_images,\n",
    "    filters=32,\n",
    "    kernel_size=[5, 5],\n",
    "    padding=\"same\",\n",
    "    activation=tf.nn.relu\n",
    ")\n",
    "pool1 = tf.layers.max_pooling2d(inputs=conv1, pool_size=[2, 2], strides=2)\n",
    "conv2 = tf.layers.conv2d(\n",
    "    inputs=pool1,\n",
    "    filters=64,\n",
    "    kernel_size=[5, 5],\n",
    "    padding=\"same\",\n",
    "    activation=tf.nn.relu\n",
    ")\n",
    "pool2 = tf.layers.max_pooling2d(inputs=conv2, pool_size=[2, 2], strides=2)\n",
    "pool2_flat = tf.reshape(pool2, [-1, 7 * 7 * 64])\n",
    "logits = tf.layers.dense(inputs=pool2_flat, units=10)\n",
    "\n",
    "# definition of the losses pertinent to our study\n",
    "L_adv = stadv.losses.adv_loss(logits, targets)\n",
    "L_flow = stadv.losses.flow_loss(flows, padding_mode='CONSTANT')\n",
    "L_final = L_adv + tau * L_flow\n",
    "grad_op = tf.gradients(L_final, flows, name='loss_gradient')[0]"
   ]
  },
  {
   "cell_type": "markdown",
   "metadata": {},
   "source": [
    "### Import the learned weights\n",
    "The network has been trained independently and its learned weights are shipped with the demo. The final error on the test set is of 1.3%."
   ]
  },
  {
   "cell_type": "code",
   "execution_count": 4,
   "metadata": {},
   "outputs": [
    {
     "name": "stdout",
     "output_type": "stream",
     "text": [
      "INFO:tensorflow:Restoring parameters from saved_models/simple_mnist\n"
     ]
    }
   ],
   "source": [
    "init = tf.global_variables_initializer()\n",
    "saver = tf.train.Saver()\n",
    "\n",
    "sess = tf.Session()\n",
    "sess.run(init)\n",
    "saver.restore(sess, os.path.join('saved_models', 'simple_mnist'))"
   ]
  },
  {
   "cell_type": "markdown",
   "metadata": {},
   "source": [
    "### Test the model on a single image\n",
    "The test image is randomly picked from the test set of MNIST. Its target label is also selected randomly."
   ]
  },
  {
   "cell_type": "code",
   "execution_count": 5,
   "metadata": {},
   "outputs": [
    {
     "name": "stdout",
     "output_type": "stream",
     "text": [
      "Considering image # 701 from the test set of MNIST\n",
      "Ground truth label: 0\n",
      "Randomly selected target label: 2\n",
      "Predicted label (no perturbation): 0\n"
     ]
    }
   ],
   "source": [
    "i_random_image = np.random.randint(0, len(mnist_images))\n",
    "test_image = mnist_images[i_random_image]\n",
    "test_label = mnist_labels[i_random_image]\n",
    "random_target = np.random.choice([num for num in range(10) if num != test_label])\n",
    "\n",
    "print(\"Considering image #\", i_random_image, \"from the test set of MNIST\")\n",
    "print(\"Ground truth label:\", test_label)\n",
    "print(\"Randomly selected target label:\", random_target)\n",
    "\n",
    "# reshape so as to have a first dimension (batch size) of 1\n",
    "test_image = np.expand_dims(test_image, 0)\n",
    "test_label = np.expand_dims(test_label, 0)\n",
    "random_target = np.expand_dims(random_target, 0)\n",
    "\n",
    "# with no flow the flow_st is the identity\n",
    "null_flows = np.zeros((1, 2, 28, 28))\n",
    "\n",
    "pred_label = np.argmax(sess.run(\n",
    "    [logits],\n",
    "    feed_dict={images: test_image, flows: null_flows}\n",
    "))\n",
    "\n",
    "print(\"Predicted label (no perturbation):\", pred_label)"
   ]
  },
  {
   "cell_type": "markdown",
   "metadata": {},
   "source": [
    "### Where the magic takes place\n",
    "Optimization of the flow so as to minimize the loss using an L-BFGS-B optimizer."
   ]
  },
  {
   "cell_type": "code",
   "execution_count": 6,
   "metadata": {},
   "outputs": [
    {
     "name": "stdout",
     "output_type": "stream",
     "text": [
      "Final loss: 3.042147397994995\n",
      "Optimization info: {'warnflag': 0, 'task': 'CONVERGENCE: REL_REDUCTION_OF_F_<=_FACTR*EPSMCH', 'grad': array([-8.85338522e-07,  3.08994227e-03,  9.12457518e-03, ...,\n",
      "        1.18389018e-02,  2.62641702e-02,  2.19407566e-02]), 'nit': 8, 'funcalls': 73}\n",
      "Predicted label after perturbation: 2\n"
     ]
    }
   ],
   "source": [
    "results = stadv.optimization.lbfgs(\n",
    "    L_final,\n",
    "    flows,\n",
    "    # random initial guess for the flow\n",
    "    flows_x0=np.random.random_sample((1, 2, 28, 28)),\n",
    "    feed_dict={images: test_image, targets: random_target, tau: 0.05},\n",
    "    grad_op=grad_op,\n",
    "    sess=sess\n",
    ")\n",
    "\n",
    "print(\"Final loss:\", results['loss'])\n",
    "print(\"Optimization info:\", results['info'])\n",
    "\n",
    "test_logits_perturbed, test_image_perturbed = sess.run(\n",
    "    [logits, perturbed_images],\n",
    "    feed_dict={images: test_image, flows: results['flows']}\n",
    ")\n",
    "pred_label_perturbed = np.argmax(test_logits_perturbed)\n",
    "\n",
    "print(\"Predicted label after perturbation:\", pred_label_perturbed)"
   ]
  },
  {
   "cell_type": "markdown",
   "metadata": {},
   "source": [
    "### Show the results"
   ]
  },
  {
   "cell_type": "code",
   "execution_count": 7,
   "metadata": {},
   "outputs": [
    {
     "data": {
      "image/png": "[encoded data removed]",
      "text/plain": [
       "<Figure size 720x720 with 3 Axes>"
      ]
     },
     "metadata": {},
     "output_type": "display_data"
    }
   ],
   "source": [
    "image_before = test_image[0, :, :, 0]\n",
    "image_after = test_image_perturbed[0, :, :, 0]\n",
    "\n",
    "difference = image_after - image_before\n",
    "max_diff = abs(difference).max()\n",
    "\n",
    "plt.rcParams['figure.figsize'] = [10, 10]\n",
    "\n",
    "f, (ax1, ax2, ax3) = plt.subplots(1, 3)\n",
    "\n",
    "ax1.imshow(image_before)\n",
    "ax1.set_title(\"True: {} - Pred: {} - Target: {}\".format(test_label[0], pred_label, random_target[0]))\n",
    "ax1.axis('off')\n",
    "ax2.imshow(image_after)\n",
    "ax2.set_title(\"Pred: {} - Loss: {}\".format(pred_label_perturbed, round(results['loss'], 2)))\n",
    "ax2.axis('off')\n",
    "ax3.imshow(difference)\n",
    "ax3.set_title(\"Max Difference: {}\".format(round(max_diff, 2)))\n",
    "ax3.axis('off')\n",
    "plt.show()"
   ]
  }
 ],
 "metadata": {
  "anaconda-cloud": {},
  "kernelspec": {
   "display_name": "Python 3",
   "language": "python",
   "name": "python3"
  },
  "language_info": {
   "codemirror_mode": {
    "name": "ipython",
    "version": 3
   },
   "file_extension": ".py",
   "mimetype": "text/x-python",
   "name": "python",
   "nbconvert_exporter": "python",
   "pygments_lexer": "ipython3",
   "version": "3.5.2"
  }
 },
 "nbformat": 4,
 "nbformat_minor": 2
}
